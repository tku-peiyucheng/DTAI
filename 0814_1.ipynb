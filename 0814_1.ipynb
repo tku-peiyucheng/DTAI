{
 "cells": [
  {
   "cell_type": "code",
   "execution_count": 2,
   "metadata": {},
   "outputs": [
    {
     "name": "stdout",
     "output_type": "stream",
     "text": [
      "0814\n"
     ]
    }
   ],
   "source": [
    "print(\"0814\")"
   ]
  },
  {
   "cell_type": "code",
   "execution_count": 6,
   "metadata": {},
   "outputs": [
    {
     "name": "stdout",
     "output_type": "stream",
     "text": [
      "2*1= 2  2*2= 4  2*3= 6  2*4= 8  2*5=10  2*6=12  2*7=14  2*8=16  2*9=18  \n",
      "3*1= 3  3*2= 6  3*3= 9  3*4=12  3*5=15  3*6=18  3*7=21  3*8=24  3*9=27  \n",
      "4*1= 4  4*2= 8  4*3=12  4*4=16  4*5=20  4*6=24  4*7=28  4*8=32  4*9=36  \n",
      "5*1= 5  5*2=10  5*3=15  5*4=20  5*5=25  5*6=30  5*7=35  5*8=40  5*9=45  \n",
      "6*1= 6  6*2=12  6*3=18  6*4=24  6*5=30  6*6=36  6*7=42  6*8=48  6*9=54  \n",
      "7*1= 7  7*2=14  7*3=21  7*4=28  7*5=35  7*6=42  7*7=49  7*8=56  7*9=63  \n",
      "8*1= 8  8*2=16  8*3=24  8*4=32  8*5=40  8*6=48  8*7=56  8*8=64  8*9=72  \n",
      "9*1= 9  9*2=18  9*3=27  9*4=36  9*5=45  9*6=54  9*7=63  9*8=72  9*9=81  \n"
     ]
    }
   ],
   "source": [
    "for j in range(2, 10):  # 外層控制被乘數\n",
    "    for i in range(1, 10):  # 內層控制乘數\n",
    "        k = i * j\n",
    "        print(\"%d*%d=%2d\" % (j, i, k), end=\"  \")\n",
    "    print()  # 每一行輸出完畢後換行"
   ]
  },
  {
   "cell_type": "code",
   "execution_count": 7,
   "metadata": {},
   "outputs": [
    {
     "name": "stdout",
     "output_type": "stream",
     "text": [
      "2*1= 2  2*2= 4  2*3= 6  2*4= 8  2*5=10  2*6=12  2*7=14  2*8=16  2*9=18  \n",
      "3*1= 3  3*2= 6  3*3= 9  3*4=12  3*5=15  3*6=18  3*7=21  3*8=24  3*9=27  \n",
      "4*1= 4  4*2= 8  4*3=12  4*4=16  4*5=20  4*6=24  4*7=28  4*8=32  4*9=36  \n",
      "5*1= 5  5*2=10  5*3=15  5*4=20  5*5=25  5*6=30  5*7=35  5*8=40  5*9=45  \n",
      "6*1= 6  6*2=12  6*3=18  6*4=24  6*5=30  6*6=36  6*7=42  6*8=48  6*9=54  \n",
      "7*1= 7  7*2=14  7*3=21  7*4=28  7*5=35  7*6=42  7*7=49  7*8=56  7*9=63  \n",
      "8*1= 8  8*2=16  8*3=24  8*4=32  8*5=40  8*6=48  8*7=56  8*8=64  8*9=72  \n",
      "9*1= 9  9*2=18  9*3=27  9*4=36  9*5=45  9*6=54  9*7=63  9*8=72  9*9=81  \n"
     ]
    }
   ],
   "source": [
    "for j in range(2, 10):  \n",
    "    for i in range(1, 10):  \n",
    "        print(\"%d*%d=%2d\" % (j, i, j * i), end=\"  \")\n",
    "    print()"
   ]
  },
  {
   "cell_type": "code",
   "execution_count": 8,
   "metadata": {},
   "outputs": [
    {
     "name": "stdout",
     "output_type": "stream",
     "text": [
      "1 2 3 "
     ]
    }
   ],
   "source": [
    "for i in range(1, 5):\n",
    "    if(i==4):\n",
    "        break\n",
    "    print(i, end= \" \")"
   ]
  },
  {
   "cell_type": "code",
   "execution_count": 9,
   "metadata": {},
   "outputs": [
    {
     "name": "stdout",
     "output_type": "stream",
     "text": [
      "1 2 3 "
     ]
    }
   ],
   "source": [
    "for i in range(1, 5):\n",
    "    if(i==4):\n",
    "        continue\n",
    "    print(i, end= \" \")"
   ]
  },
  {
   "cell_type": "code",
   "execution_count": 12,
   "metadata": {},
   "outputs": [
    {
     "name": "stdout",
     "output_type": "stream",
     "text": [
      "能被 7 整除的數字: 7\n",
      "能被 7 整除的數字: 14\n"
     ]
    }
   ],
   "source": [
    "for i in range(1, 20):\n",
    "    if i % 7 == 0:\n",
    "        print(\"能被 7 整除的數字: %d\" % i)"
   ]
  },
  {
   "cell_type": "code",
   "execution_count": 13,
   "metadata": {},
   "outputs": [
    {
     "name": "stdout",
     "output_type": "stream",
     "text": [
      "奇數: 1\n",
      "奇數: 3\n",
      "奇數: 5\n",
      "奇數: 7\n",
      "奇數: 9\n",
      "奇數: 11\n",
      "奇數: 13\n",
      "奇數: 15\n",
      "奇數: 17\n",
      "奇數: 19\n"
     ]
    }
   ],
   "source": [
    "for i in range(1, 20):\n",
    "    if i % 2 == 0:\n",
    "        continue\n",
    "    print(\"奇數: %d\" % i)"
   ]
  },
  {
   "cell_type": "code",
   "execution_count": 14,
   "metadata": {},
   "outputs": [
    {
     "name": "stdout",
     "output_type": "stream",
     "text": [
      "找到第一個奇數: 1\n"
     ]
    }
   ],
   "source": [
    "for i in range(1, 20):\n",
    "    if i % 2 != 0:\n",
    "        print(\"找到第一個奇數: %d\" % i)\n",
    "    break"
   ]
  },
  {
   "cell_type": "code",
   "execution_count": 3,
   "metadata": {},
   "outputs": [
    {
     "name": "stdout",
     "output_type": "stream",
     "text": [
      "5! = 120\n"
     ]
    }
   ],
   "source": [
    "n = int(input(\"請輸入正整數 n 的值：\"))\n",
    "\n",
    "if n > 0:\n",
    "    result = 1\n",
    "    i = 1\n",
    "\n",
    "    while i <= n:\n",
    "        result *= i\n",
    "        i += 1\n",
    "\n",
    "    print(str(n) + \"! = \" + str(result))\n"
   ]
  },
  {
   "cell_type": "code",
   "execution_count": 4,
   "metadata": {},
   "outputs": [
    {
     "name": "stdout",
     "output_type": "stream",
     "text": [
      "0~50的偶數和結果是650\n",
      "0~50的奇數和結果是625\n"
     ]
    }
   ],
   "source": [
    "a = 0  # 用來儲存偶數和\n",
    "b = 0  # 用來儲存奇數和\n",
    "i = 0\n",
    "\n",
    "while i <= 50:\n",
    "    if i % 2 == 0:\n",
    "        a += i\n",
    "    else:\n",
    "        b += i\n",
    "    i += 1\n",
    "\n",
    "print(\"0~50的偶數和結果是\" + str(a))\n",
    "print(\"0~50的奇數和結果是\" + str(b))\n"
   ]
  },
  {
   "cell_type": "code",
   "execution_count": 5,
   "metadata": {},
   "outputs": [
    {
     "name": "stdout",
     "output_type": "stream",
     "text": [
      "*****\n",
      "****\n",
      "***\n",
      "**\n",
      "*\n"
     ]
    }
   ],
   "source": [
    "# 讓使用者輸入一個正整數\n",
    "n = int(input(\"請輸入一個正整數: \"))\n",
    "\n",
    "# 使用 while 迴圈生成倒三角形\n",
    "i = n\n",
    "while i > 0:\n",
    "    print('*' * i)\n",
    "    i -= 1\n"
   ]
  },
  {
   "cell_type": "code",
   "execution_count": 6,
   "metadata": {},
   "outputs": [
    {
     "name": "stdout",
     "output_type": "stream",
     "text": [
      "數值 1~100 中，所有是 3 或 7 倍數的數之總和 = 2208\n"
     ]
    }
   ],
   "source": [
    "total_sum = 0\n",
    "\n",
    "for i in range(1, 101):\n",
    "    if i % 3 == 0 or i % 7 == 0:\n",
    "        total_sum += i\n",
    "\n",
    "print(\"數值 1~100 中，所有是 3 或 7 倍數的數之總和 = \" + str(total_sum))\n"
   ]
  },
  {
   "cell_type": "code",
   "execution_count": 7,
   "metadata": {},
   "outputs": [
    {
     "name": "stdout",
     "output_type": "stream",
     "text": [
      "5 的因數有 1 5\n",
      "5 是質數\n"
     ]
    }
   ],
   "source": [
    "# 請使用者輸入一個正整數\n",
    "n = int(input(\"請輸入正整數: \"))\n",
    "\n",
    "# 初始化一個空列表來存儲因數\n",
    "factors = []\n",
    "\n",
    "# 使用 for 迴圈找到所有因數\n",
    "for i in range(1, n + 1):\n",
    "    if n % i == 0:\n",
    "        factors.append(i)\n",
    "\n",
    "# 列出所有因數\n",
    "print(str(n) + \" 的因數有 \" + ' '.join(map(str, factors)))\n",
    "\n",
    "# 判斷是否為質數\n",
    "if len(factors) == 2:\n",
    "    print(str(n) + \" 是質數\")\n",
    "else:\n",
    "    print(str(n) + \" 不是質數\")\n"
   ]
  }
 ],
 "metadata": {
  "kernelspec": {
   "display_name": "base",
   "language": "python",
   "name": "python3"
  },
  "language_info": {
   "codemirror_mode": {
    "name": "ipython",
    "version": 3
   },
   "file_extension": ".py",
   "mimetype": "text/x-python",
   "name": "python",
   "nbconvert_exporter": "python",
   "pygments_lexer": "ipython3",
   "version": "3.12.4"
  }
 },
 "nbformat": 4,
 "nbformat_minor": 2
}
